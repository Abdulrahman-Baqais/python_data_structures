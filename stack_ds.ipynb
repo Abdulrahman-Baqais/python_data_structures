{
 "cells": [
  {
   "cell_type": "code",
   "execution_count": 1,
   "metadata": {},
   "outputs": [],
   "source": [
    "class recommendation_viewer():\n",
    "    def __init__(self):\n",
    "        self.products = []\n",
    "        \n",
    "    def push(self, new_product):\n",
    "        self.products.append(new_product)\n",
    "        \n",
    "    def pop (self):\n",
    "        if products:\n",
    "            self.products.pop(-1)\n",
    "            \n",
    "    def size(self):\n",
    "        if self.products:\n",
    "            return len(self.products)\n",
    "        else: \n",
    "            return (\"No element is there\")\n",
    "    def is_empty(self):\n",
    "        return len(self.products) == []\n",
    "    \n",
    "    def peek(self):\n",
    "        if self.products:\n",
    "            return self.products[0]\n"
   ]
  },
  {
   "cell_type": "code",
   "execution_count": 2,
   "metadata": {},
   "outputs": [
    {
     "name": "stdout",
     "output_type": "stream",
     "text": [
      "for user1, the number of recommended products viewed is 3\n"
     ]
    }
   ],
   "source": [
    "Recommended_products = ['Easy105', 'Medium103', 'Easy200', 'Medium504' , 'Medium280', 'Easy400','Easy700', 'Medium900']\n",
    "recommendation_per_user1 = recommendation_viewer()\n",
    "user_clicks = ['Easy200', 'Medium504', 'Easy400']\n",
    "\n",
    "for i in range (len (user_clicks)):\n",
    "    recommendation_per_user1.push(user_clicks[i])\n",
    "\n",
    "print(f'for user1, the number of recommended products viewed is {recommendation_per_user1.size()}')"
   ]
  },
  {
   "cell_type": "code",
   "execution_count": null,
   "metadata": {},
   "outputs": [],
   "source": []
  }
 ],
 "metadata": {
  "kernelspec": {
   "display_name": "Python 3",
   "language": "python",
   "name": "python3"
  },
  "language_info": {
   "codemirror_mode": {
    "name": "ipython",
    "version": 3
   },
   "file_extension": ".py",
   "mimetype": "text/x-python",
   "name": "python",
   "nbconvert_exporter": "python",
   "pygments_lexer": "ipython3",
   "version": "3.6.5"
  }
 },
 "nbformat": 4,
 "nbformat_minor": 2
}
